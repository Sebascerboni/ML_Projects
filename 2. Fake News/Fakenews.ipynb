{
 "cells": [
  {
   "cell_type": "markdown",
   "id": "c71cb9b9-67a5-4177-b166-ed942c83ae66",
   "metadata": {},
   "source": [
    "# __Fake News Prediction__\n",
    "### __Uses:__ Logistic Regression Model\n",
    "\n",
    "*__Made by:__ Sebastián Cervantes ^^*\n",
    "\n",
    "## **Work flow:**\n",
    " * News Data (Kaggle)\n",
    " * Data pre processing\n",
    " * Training test split\n",
    " * Logistic Regression algorythm\n",
    " * Evaluation\n",
    " \n",
    " ## __Consideretions__\n",
    " 1. Id: unique ID for news\n",
    " 2. Title: title of the article\n",
    " 3. author: who wrote the article\n",
    " 4. Text: the content of the new/article\n",
    " 5. label: marks wheater the news articles is real or fake\n",
    " \n",
    " 1: Fake new\n",
    " 0: Real new"
   ]
  },
  {
   "cell_type": "markdown",
   "id": "6c7ea02e-11e2-4b8a-a537-b8cf704cc047",
   "metadata": {},
   "source": [
    "## __Importing the dependencies__"
   ]
  },
  {
   "cell_type": "code",
   "execution_count": 1,
   "id": "fb99f972-eeae-49be-ba7c-58bc45daa74a",
   "metadata": {},
   "outputs": [],
   "source": [
    "import numpy as np\n",
    "import pandas as pd\n",
    "import re\n",
    "from nltk.corpus import stopwords\n",
    "from nltk.stem.porter import PorterStemmer\n",
    "from sklearn.feature_extraction.text import TfidfVectorizer #text into feature vector\n",
    "from sklearn.model_selection import train_test_split\n",
    "from sklearn.linear_model import LogisticRegression\n",
    "from sklearn.metrics import accuracy_score"
   ]
  },
  {
   "cell_type": "code",
   "execution_count": 2,
   "id": "5d0e7ea4-eaa6-4332-971a-7e9bb4e2debb",
   "metadata": {},
   "outputs": [
    {
     "name": "stderr",
     "output_type": "stream",
     "text": [
      "[nltk_data] Downloading package stopwords to\n",
      "[nltk_data]     C:\\Users\\Cebastian\\AppData\\Roaming\\nltk_data...\n",
      "[nltk_data]   Package stopwords is already up-to-date!\n"
     ]
    },
    {
     "data": {
      "text/plain": [
       "True"
      ]
     },
     "execution_count": 2,
     "metadata": {},
     "output_type": "execute_result"
    }
   ],
   "source": [
    "import nltk\n",
    "nltk.download('stopwords')"
   ]
  },
  {
   "cell_type": "code",
   "execution_count": 3,
   "id": "d47bb551-b134-496e-bddc-4dc3107506a4",
   "metadata": {},
   "outputs": [
    {
     "name": "stdout",
     "output_type": "stream",
     "text": [
      "['i', 'me', 'my', 'myself', 'we', 'our', 'ours', 'ourselves', 'you', \"you're\", \"you've\", \"you'll\", \"you'd\", 'your', 'yours', 'yourself', 'yourselves', 'he', 'him', 'his', 'himself', 'she', \"she's\", 'her', 'hers', 'herself', 'it', \"it's\", 'its', 'itself', 'they', 'them', 'their', 'theirs', 'themselves', 'what', 'which', 'who', 'whom', 'this', 'that', \"that'll\", 'these', 'those', 'am', 'is', 'are', 'was', 'were', 'be', 'been', 'being', 'have', 'has', 'had', 'having', 'do', 'does', 'did', 'doing', 'a', 'an', 'the', 'and', 'but', 'if', 'or', 'because', 'as', 'until', 'while', 'of', 'at', 'by', 'for', 'with', 'about', 'against', 'between', 'into', 'through', 'during', 'before', 'after', 'above', 'below', 'to', 'from', 'up', 'down', 'in', 'out', 'on', 'off', 'over', 'under', 'again', 'further', 'then', 'once', 'here', 'there', 'when', 'where', 'why', 'how', 'all', 'any', 'both', 'each', 'few', 'more', 'most', 'other', 'some', 'such', 'no', 'nor', 'not', 'only', 'own', 'same', 'so', 'than', 'too', 'very', 's', 't', 'can', 'will', 'just', 'don', \"don't\", 'should', \"should've\", 'now', 'd', 'll', 'm', 'o', 're', 've', 'y', 'ain', 'aren', \"aren't\", 'couldn', \"couldn't\", 'didn', \"didn't\", 'doesn', \"doesn't\", 'hadn', \"hadn't\", 'hasn', \"hasn't\", 'haven', \"haven't\", 'isn', \"isn't\", 'ma', 'mightn', \"mightn't\", 'mustn', \"mustn't\", 'needn', \"needn't\", 'shan', \"shan't\", 'shouldn', \"shouldn't\", 'wasn', \"wasn't\", 'weren', \"weren't\", 'won', \"won't\", 'wouldn', \"wouldn't\"]\n"
     ]
    }
   ],
   "source": [
    "#Printing the stopwords\n",
    "print(stopwords.words('english'))"
   ]
  },
  {
   "cell_type": "markdown",
   "id": "447da3e7-7a79-44fa-ab88-0adb41ab5fb5",
   "metadata": {},
   "source": [
    "### __Data pre-processing__"
   ]
  },
  {
   "cell_type": "code",
   "execution_count": 4,
   "id": "bafc8d08-8f7f-4bc0-985e-9f95121a63c3",
   "metadata": {},
   "outputs": [],
   "source": [
    "# loading the news into pandas dataset\n",
    "news_dataset = pd.read_csv('train.csv')"
   ]
  },
  {
   "cell_type": "code",
   "execution_count": 5,
   "id": "1ccd8171-1033-4c9a-a411-6e909b58880a",
   "metadata": {},
   "outputs": [
    {
     "data": {
      "text/plain": [
       "(20800, 5)"
      ]
     },
     "execution_count": 5,
     "metadata": {},
     "output_type": "execute_result"
    }
   ],
   "source": [
    "news_dataset.shape"
   ]
  },
  {
   "cell_type": "code",
   "execution_count": 6,
   "id": "e6a928b7-b889-4454-afc1-8657a363ebe7",
   "metadata": {},
   "outputs": [
    {
     "data": {
      "text/html": [
       "<div>\n",
       "<style scoped>\n",
       "    .dataframe tbody tr th:only-of-type {\n",
       "        vertical-align: middle;\n",
       "    }\n",
       "\n",
       "    .dataframe tbody tr th {\n",
       "        vertical-align: top;\n",
       "    }\n",
       "\n",
       "    .dataframe thead th {\n",
       "        text-align: right;\n",
       "    }\n",
       "</style>\n",
       "<table border=\"1\" class=\"dataframe\">\n",
       "  <thead>\n",
       "    <tr style=\"text-align: right;\">\n",
       "      <th></th>\n",
       "      <th>id</th>\n",
       "      <th>title</th>\n",
       "      <th>author</th>\n",
       "      <th>text</th>\n",
       "      <th>label</th>\n",
       "    </tr>\n",
       "  </thead>\n",
       "  <tbody>\n",
       "    <tr>\n",
       "      <th>0</th>\n",
       "      <td>0</td>\n",
       "      <td>House Dem Aide: We Didn’t Even See Comey’s Let...</td>\n",
       "      <td>Darrell Lucus</td>\n",
       "      <td>House Dem Aide: We Didn’t Even See Comey’s Let...</td>\n",
       "      <td>1</td>\n",
       "    </tr>\n",
       "    <tr>\n",
       "      <th>1</th>\n",
       "      <td>1</td>\n",
       "      <td>FLYNN: Hillary Clinton, Big Woman on Campus - ...</td>\n",
       "      <td>Daniel J. Flynn</td>\n",
       "      <td>Ever get the feeling your life circles the rou...</td>\n",
       "      <td>0</td>\n",
       "    </tr>\n",
       "    <tr>\n",
       "      <th>2</th>\n",
       "      <td>2</td>\n",
       "      <td>Why the Truth Might Get You Fired</td>\n",
       "      <td>Consortiumnews.com</td>\n",
       "      <td>Why the Truth Might Get You Fired October 29, ...</td>\n",
       "      <td>1</td>\n",
       "    </tr>\n",
       "    <tr>\n",
       "      <th>3</th>\n",
       "      <td>3</td>\n",
       "      <td>15 Civilians Killed In Single US Airstrike Hav...</td>\n",
       "      <td>Jessica Purkiss</td>\n",
       "      <td>Videos 15 Civilians Killed In Single US Airstr...</td>\n",
       "      <td>1</td>\n",
       "    </tr>\n",
       "    <tr>\n",
       "      <th>4</th>\n",
       "      <td>4</td>\n",
       "      <td>Iranian woman jailed for fictional unpublished...</td>\n",
       "      <td>Howard Portnoy</td>\n",
       "      <td>Print \\nAn Iranian woman has been sentenced to...</td>\n",
       "      <td>1</td>\n",
       "    </tr>\n",
       "  </tbody>\n",
       "</table>\n",
       "</div>"
      ],
      "text/plain": [
       "   id                                              title              author  \\\n",
       "0   0  House Dem Aide: We Didn’t Even See Comey’s Let...       Darrell Lucus   \n",
       "1   1  FLYNN: Hillary Clinton, Big Woman on Campus - ...     Daniel J. Flynn   \n",
       "2   2                  Why the Truth Might Get You Fired  Consortiumnews.com   \n",
       "3   3  15 Civilians Killed In Single US Airstrike Hav...     Jessica Purkiss   \n",
       "4   4  Iranian woman jailed for fictional unpublished...      Howard Portnoy   \n",
       "\n",
       "                                                text  label  \n",
       "0  House Dem Aide: We Didn’t Even See Comey’s Let...      1  \n",
       "1  Ever get the feeling your life circles the rou...      0  \n",
       "2  Why the Truth Might Get You Fired October 29, ...      1  \n",
       "3  Videos 15 Civilians Killed In Single US Airstr...      1  \n",
       "4  Print \\nAn Iranian woman has been sentenced to...      1  "
      ]
     },
     "execution_count": 6,
     "metadata": {},
     "output_type": "execute_result"
    }
   ],
   "source": [
    "news_dataset.head()"
   ]
  },
  {
   "cell_type": "code",
   "execution_count": 7,
   "id": "9f40288c-c4ef-4224-9dd7-ce7477c585dc",
   "metadata": {},
   "outputs": [
    {
     "data": {
      "text/plain": [
       "id           0\n",
       "title      558\n",
       "author    1957\n",
       "text        39\n",
       "label        0\n",
       "dtype: int64"
      ]
     },
     "execution_count": 7,
     "metadata": {},
     "output_type": "execute_result"
    }
   ],
   "source": [
    "# Missing values\n",
    "news_dataset.isnull().sum()"
   ]
  },
  {
   "cell_type": "code",
   "execution_count": 8,
   "id": "ac8fc429-32ea-4288-925d-9872ddb33f9d",
   "metadata": {},
   "outputs": [],
   "source": [
    "#Replacing missing values with empy string. Other solution could be delete them. But is more apropiate the first option\n",
    "news_dataset = news_dataset.fillna('')"
   ]
  },
  {
   "cell_type": "code",
   "execution_count": 9,
   "id": "dc0dcc36-1901-4de1-80be-a668687cc3f0",
   "metadata": {},
   "outputs": [],
   "source": [
    "# Mergin title and author name into just one column. It's easier to process this two fields for the model\n",
    "# Another option is analyse onle the content of the article but this will demand more resources of the machine\n",
    "# And analyzing the 3 fields is the most optimal choise but will demand a lot of time and resources\n",
    "news_dataset['content'] = news_dataset['author']+' '+news_dataset['title']"
   ]
  },
  {
   "cell_type": "code",
   "execution_count": 10,
   "id": "65ae218f-a297-44d7-b8f6-ecbb7c1adade",
   "metadata": {},
   "outputs": [
    {
     "name": "stdout",
     "output_type": "stream",
     "text": [
      "0        Darrell Lucus House Dem Aide: We Didn’t Even S...\n",
      "1        Daniel J. Flynn FLYNN: Hillary Clinton, Big Wo...\n",
      "2        Consortiumnews.com Why the Truth Might Get You...\n",
      "3        Jessica Purkiss 15 Civilians Killed In Single ...\n",
      "4        Howard Portnoy Iranian woman jailed for fictio...\n",
      "                               ...                        \n",
      "20795    Jerome Hudson Rapper T.I.: Trump a ’Poster Chi...\n",
      "20796    Benjamin Hoffman N.F.L. Playoffs: Schedule, Ma...\n",
      "20797    Michael J. de la Merced and Rachel Abrams Macy...\n",
      "20798    Alex Ansary NATO, Russia To Hold Parallel Exer...\n",
      "20799              David Swanson What Keeps the F-35 Alive\n",
      "Name: content, Length: 20800, dtype: object\n"
     ]
    }
   ],
   "source": [
    "print(news_dataset['content'])"
   ]
  },
  {
   "cell_type": "markdown",
   "id": "f3347bda-030b-4691-ae0b-b8b5a39857ec",
   "metadata": {},
   "source": [
    "### __Training test split__"
   ]
  },
  {
   "cell_type": "code",
   "execution_count": 11,
   "id": "d268ced0-adf6-4518-8ce1-2abde3879219",
   "metadata": {},
   "outputs": [],
   "source": [
    "X = news_dataset.drop(columns='label', axis=1)\n",
    "Y = news_dataset['label']"
   ]
  },
  {
   "cell_type": "code",
   "execution_count": 12,
   "id": "b72ee64c-bbcf-4f89-8d6f-f19d1f64808d",
   "metadata": {},
   "outputs": [
    {
     "name": "stdout",
     "output_type": "stream",
     "text": [
      "          id                                              title  \\\n",
      "0          0  House Dem Aide: We Didn’t Even See Comey’s Let...   \n",
      "1          1  FLYNN: Hillary Clinton, Big Woman on Campus - ...   \n",
      "2          2                  Why the Truth Might Get You Fired   \n",
      "3          3  15 Civilians Killed In Single US Airstrike Hav...   \n",
      "4          4  Iranian woman jailed for fictional unpublished...   \n",
      "...      ...                                                ...   \n",
      "20795  20795  Rapper T.I.: Trump a ’Poster Child For White S...   \n",
      "20796  20796  N.F.L. Playoffs: Schedule, Matchups and Odds -...   \n",
      "20797  20797  Macy’s Is Said to Receive Takeover Approach by...   \n",
      "20798  20798  NATO, Russia To Hold Parallel Exercises In Bal...   \n",
      "20799  20799                          What Keeps the F-35 Alive   \n",
      "\n",
      "                                          author  \\\n",
      "0                                  Darrell Lucus   \n",
      "1                                Daniel J. Flynn   \n",
      "2                             Consortiumnews.com   \n",
      "3                                Jessica Purkiss   \n",
      "4                                 Howard Portnoy   \n",
      "...                                          ...   \n",
      "20795                              Jerome Hudson   \n",
      "20796                           Benjamin Hoffman   \n",
      "20797  Michael J. de la Merced and Rachel Abrams   \n",
      "20798                                Alex Ansary   \n",
      "20799                              David Swanson   \n",
      "\n",
      "                                                    text  \\\n",
      "0      House Dem Aide: We Didn’t Even See Comey’s Let...   \n",
      "1      Ever get the feeling your life circles the rou...   \n",
      "2      Why the Truth Might Get You Fired October 29, ...   \n",
      "3      Videos 15 Civilians Killed In Single US Airstr...   \n",
      "4      Print \\nAn Iranian woman has been sentenced to...   \n",
      "...                                                  ...   \n",
      "20795  Rapper T. I. unloaded on black celebrities who...   \n",
      "20796  When the Green Bay Packers lost to the Washing...   \n",
      "20797  The Macy’s of today grew from the union of sev...   \n",
      "20798  NATO, Russia To Hold Parallel Exercises In Bal...   \n",
      "20799    David Swanson is an author, activist, journa...   \n",
      "\n",
      "                                                 content  \n",
      "0      Darrell Lucus House Dem Aide: We Didn’t Even S...  \n",
      "1      Daniel J. Flynn FLYNN: Hillary Clinton, Big Wo...  \n",
      "2      Consortiumnews.com Why the Truth Might Get You...  \n",
      "3      Jessica Purkiss 15 Civilians Killed In Single ...  \n",
      "4      Howard Portnoy Iranian woman jailed for fictio...  \n",
      "...                                                  ...  \n",
      "20795  Jerome Hudson Rapper T.I.: Trump a ’Poster Chi...  \n",
      "20796  Benjamin Hoffman N.F.L. Playoffs: Schedule, Ma...  \n",
      "20797  Michael J. de la Merced and Rachel Abrams Macy...  \n",
      "20798  Alex Ansary NATO, Russia To Hold Parallel Exer...  \n",
      "20799            David Swanson What Keeps the F-35 Alive  \n",
      "\n",
      "[20800 rows x 5 columns]\n",
      "0        1\n",
      "1        0\n",
      "2        1\n",
      "3        1\n",
      "4        1\n",
      "        ..\n",
      "20795    0\n",
      "20796    0\n",
      "20797    0\n",
      "20798    1\n",
      "20799    1\n",
      "Name: label, Length: 20800, dtype: int64\n"
     ]
    }
   ],
   "source": [
    "print(X)\n",
    "print(Y)"
   ]
  },
  {
   "cell_type": "markdown",
   "id": "360148eb-ea49-4c66-aa91-80507fda2a10",
   "metadata": {},
   "source": [
    "__Stemming__\n",
    "Process fo reducing a word to its root word. i.e: actor, actress, actor --> act"
   ]
  },
  {
   "cell_type": "code",
   "execution_count": 13,
   "id": "8d6a331e-d187-45a3-b461-8c8dd1dd2068",
   "metadata": {},
   "outputs": [],
   "source": [
    "port_stem = PorterStemmer()"
   ]
  },
  {
   "cell_type": "code",
   "execution_count": 14,
   "id": "171617f7-9310-4e0d-8d10-73f9b40af18d",
   "metadata": {},
   "outputs": [],
   "source": [
    "def stemming(content):\n",
    "    stemmed_content = re.sub('[^a-zA-Z]',' ',content) # substitute: numbers, puntuations with empty strings\n",
    "    stemmed_content = stemmed_content.lower()\n",
    "    stemmed_content = stemmed_content.split() # convert the text into list\n",
    "    stemmed_content = [port_stem.stem(word) for word in stemmed_content if not word in stopwords.words('english')] #deleting stop-words\n",
    "    stemmed_content = ' '.join(stemmed_content)\n",
    "    return stemmed_content"
   ]
  },
  {
   "cell_type": "code",
   "execution_count": 15,
   "id": "b84d46fa-52c2-406f-b895-71f892432885",
   "metadata": {},
   "outputs": [],
   "source": [
    "news_dataset['content'] = news_dataset['content'].apply(stemming)"
   ]
  },
  {
   "cell_type": "code",
   "execution_count": 16,
   "id": "8ade2eb5-0d74-4655-a041-83ec0b646dee",
   "metadata": {},
   "outputs": [
    {
     "name": "stdout",
     "output_type": "stream",
     "text": [
      "0        darrel lucu hous dem aid even see comey letter...\n",
      "1        daniel j flynn flynn hillari clinton big woman...\n",
      "2                   consortiumnew com truth might get fire\n",
      "3        jessica purkiss civilian kill singl us airstri...\n",
      "4        howard portnoy iranian woman jail fiction unpu...\n",
      "                               ...                        \n",
      "20795    jerom hudson rapper trump poster child white s...\n",
      "20796    benjamin hoffman n f l playoff schedul matchup...\n",
      "20797    michael j de la merc rachel abram maci said re...\n",
      "20798    alex ansari nato russia hold parallel exercis ...\n",
      "20799                            david swanson keep f aliv\n",
      "Name: content, Length: 20800, dtype: object\n"
     ]
    }
   ],
   "source": [
    "print(news_dataset['content'])"
   ]
  },
  {
   "cell_type": "code",
   "execution_count": 17,
   "id": "bc3750d4-70e4-4335-ac66-3077492ba5be",
   "metadata": {},
   "outputs": [],
   "source": [
    "# Separating data from label\n",
    "X = news_dataset['content'].values\n",
    "Y = news_dataset['label'].values"
   ]
  },
  {
   "cell_type": "code",
   "execution_count": 18,
   "id": "732cb85f-d208-4fd3-a072-b4baf8f1a985",
   "metadata": {},
   "outputs": [
    {
     "name": "stdout",
     "output_type": "stream",
     "text": [
      "['darrel lucu hous dem aid even see comey letter jason chaffetz tweet'\n",
      " 'daniel j flynn flynn hillari clinton big woman campu breitbart'\n",
      " 'consortiumnew com truth might get fire' ...\n",
      " 'michael j de la merc rachel abram maci said receiv takeov approach hudson bay new york time'\n",
      " 'alex ansari nato russia hold parallel exercis balkan'\n",
      " 'david swanson keep f aliv']\n"
     ]
    }
   ],
   "source": [
    "print(X)"
   ]
  },
  {
   "cell_type": "code",
   "execution_count": 19,
   "id": "8022ffa6-bfc7-45ba-9536-1d8f211cadcd",
   "metadata": {},
   "outputs": [
    {
     "name": "stdout",
     "output_type": "stream",
     "text": [
      "[1 0 1 ... 0 1 1]\n"
     ]
    }
   ],
   "source": [
    "print(Y)"
   ]
  },
  {
   "cell_type": "code",
   "execution_count": 20,
   "id": "103786ae-662e-47f7-b9b6-724d6c08db71",
   "metadata": {},
   "outputs": [
    {
     "data": {
      "text/plain": [
       "(20800,)"
      ]
     },
     "execution_count": 20,
     "metadata": {},
     "output_type": "execute_result"
    }
   ],
   "source": [
    "Y.shape"
   ]
  },
  {
   "cell_type": "markdown",
   "id": "cb630aec-39a6-42cd-9149-9be81454c083",
   "metadata": {},
   "source": [
    "### How a logistic regression needs numerical data, I use TfidVectorizer to transform text to numerical data"
   ]
  },
  {
   "cell_type": "code",
   "execution_count": 21,
   "id": "1157c599-7646-4c2c-9623-c5a7cf81b5bd",
   "metadata": {},
   "outputs": [],
   "source": [
    "vectorizer = TfidfVectorizer()\n",
    "vectorizer.fit(X)\n",
    "X= vectorizer.transform(X)"
   ]
  },
  {
   "cell_type": "code",
   "execution_count": 22,
   "id": "07e939fa-f1f6-43dc-9d92-f8d0076c00ac",
   "metadata": {},
   "outputs": [
    {
     "name": "stdout",
     "output_type": "stream",
     "text": [
      "  (0, 15686)\t0.28485063562728646\n",
      "  (0, 13473)\t0.2565896679337957\n",
      "  (0, 8909)\t0.3635963806326075\n",
      "  (0, 8630)\t0.29212514087043684\n",
      "  (0, 7692)\t0.24785219520671603\n",
      "  (0, 7005)\t0.21874169089359144\n",
      "  (0, 4973)\t0.233316966909351\n",
      "  (0, 3792)\t0.2705332480845492\n",
      "  (0, 3600)\t0.3598939188262559\n",
      "  (0, 2959)\t0.2468450128533713\n",
      "  (0, 2483)\t0.3676519686797209\n",
      "  (0, 267)\t0.27010124977708766\n",
      "  (1, 16799)\t0.30071745655510157\n",
      "  (1, 6816)\t0.1904660198296849\n",
      "  (1, 5503)\t0.7143299355715573\n",
      "  (1, 3568)\t0.26373768806048464\n",
      "  (1, 2813)\t0.19094574062359204\n",
      "  (1, 2223)\t0.3827320386859759\n",
      "  (1, 1894)\t0.15521974226349364\n",
      "  (1, 1497)\t0.2939891562094648\n",
      "  (2, 15611)\t0.41544962664721613\n",
      "  (2, 9620)\t0.49351492943649944\n",
      "  (2, 5968)\t0.3474613386728292\n",
      "  (2, 5389)\t0.3866530551182615\n",
      "  (2, 3103)\t0.46097489583229645\n",
      "  :\t:\n",
      "  (20797, 13122)\t0.2482526352197606\n",
      "  (20797, 12344)\t0.27263457663336677\n",
      "  (20797, 12138)\t0.24778257724396507\n",
      "  (20797, 10306)\t0.08038079000566466\n",
      "  (20797, 9588)\t0.174553480255222\n",
      "  (20797, 9518)\t0.2954204003420313\n",
      "  (20797, 8988)\t0.36160868928090795\n",
      "  (20797, 8364)\t0.22322585870464118\n",
      "  (20797, 7042)\t0.21799048897828688\n",
      "  (20797, 3643)\t0.21155500613623743\n",
      "  (20797, 1287)\t0.33538056804139865\n",
      "  (20797, 699)\t0.30685846079762347\n",
      "  (20797, 43)\t0.29710241860700626\n",
      "  (20798, 13046)\t0.22363267488270608\n",
      "  (20798, 11052)\t0.4460515589182236\n",
      "  (20798, 10177)\t0.3192496370187028\n",
      "  (20798, 6889)\t0.32496285694299426\n",
      "  (20798, 5032)\t0.4083701450239529\n",
      "  (20798, 1125)\t0.4460515589182236\n",
      "  (20798, 588)\t0.3112141524638974\n",
      "  (20798, 350)\t0.28446937819072576\n",
      "  (20799, 14852)\t0.5677577267055112\n",
      "  (20799, 8036)\t0.45983893273780013\n",
      "  (20799, 3623)\t0.37927626273066584\n",
      "  (20799, 377)\t0.5677577267055112\n"
     ]
    }
   ],
   "source": [
    "print(X)"
   ]
  },
  {
   "cell_type": "code",
   "execution_count": 23,
   "id": "463abeed-eded-4810-8e45-81ecccf88c76",
   "metadata": {},
   "outputs": [],
   "source": [
    "X_train, X_test, Y_train, Y_test, = train_test_split(X,Y, test_size=0.2, stratify=Y, random_state=2)"
   ]
  },
  {
   "cell_type": "markdown",
   "id": "9840ea1f-a519-4010-bcba-e319e9be803b",
   "metadata": {},
   "source": [
    "### __Logistic regression Algorythm__"
   ]
  },
  {
   "cell_type": "code",
   "execution_count": 24,
   "id": "730667d9-f671-47af-b100-6bb24d603796",
   "metadata": {},
   "outputs": [],
   "source": [
    "model= LogisticRegression()"
   ]
  },
  {
   "cell_type": "code",
   "execution_count": 25,
   "id": "a04d3c35-34c7-4087-9893-a21aa9808131",
   "metadata": {},
   "outputs": [
    {
     "data": {
      "text/plain": [
       "LogisticRegression()"
      ]
     },
     "execution_count": 25,
     "metadata": {},
     "output_type": "execute_result"
    }
   ],
   "source": [
    "model.fit(X_train, Y_train)"
   ]
  },
  {
   "cell_type": "markdown",
   "id": "b4e5b1f8-4e18-48a1-a92b-28aeb042cfcf",
   "metadata": {},
   "source": [
    "### __Evaluation__"
   ]
  },
  {
   "cell_type": "code",
   "execution_count": 26,
   "id": "85e7c669-1cf7-4584-a001-7c214faf1606",
   "metadata": {},
   "outputs": [],
   "source": [
    "# training accuracy score\n",
    "X_train_prediction = model.predict(X_train)\n",
    "train_score = accuracy_score(X_train_prediction, Y_train)"
   ]
  },
  {
   "cell_type": "code",
   "execution_count": 27,
   "id": "bf0b6dce-26f8-48fd-b09b-043be3f9c90f",
   "metadata": {},
   "outputs": [
    {
     "name": "stdout",
     "output_type": "stream",
     "text": [
      "Accuraccy score of the training data:  0.9865985576923076\n"
     ]
    }
   ],
   "source": [
    "print('Accuraccy score of the training data: ',train_score)"
   ]
  },
  {
   "cell_type": "code",
   "execution_count": 28,
   "id": "d1eb3c84-04fe-4a4f-b4ac-454fb9902af6",
   "metadata": {},
   "outputs": [
    {
     "name": "stdout",
     "output_type": "stream",
     "text": [
      "Accuracy score of the training data:  0.9790865384615385\n"
     ]
    }
   ],
   "source": [
    "## testing accuraccy score\n",
    "X_test_prediction = model.predict(X_test)\n",
    "test_score = accuracy_score(X_test_prediction, Y_test)\n",
    "print('Accuracy score of the training data: ',test_score)"
   ]
  },
  {
   "cell_type": "code",
   "execution_count": 29,
   "id": "620a8bfc-9c3f-44df-9adc-ffd79ec71bd4",
   "metadata": {},
   "outputs": [
    {
     "name": "stdout",
     "output_type": "stream",
     "text": [
      "  (0, 12801)\t0.2910746804557067\n",
      "  (0, 9818)\t0.30786004182651133\n",
      "  (0, 7668)\t0.22945314906455008\n",
      "  (0, 6816)\t0.16094563145945953\n",
      "  (0, 6289)\t0.288254092437116\n",
      "  (0, 5941)\t0.288254092437116\n",
      "  (0, 5233)\t0.21316265672448448\n",
      "  (0, 4346)\t0.3250084367199054\n",
      "  (0, 3395)\t0.3301936745912874\n",
      "  (0, 2959)\t0.24534646237198773\n",
      "  (0, 1667)\t0.30373060380734146\n",
      "  (0, 908)\t0.213510750423647\n",
      "  (0, 239)\t0.34297808354766485\n",
      "  (1, 16996)\t0.09117761343372983\n",
      "  (1, 15295)\t0.08946281236254729\n",
      "  (1, 14046)\t0.42524648908354634\n",
      "  (1, 13190)\t0.36773046084789346\n",
      "  (1, 12741)\t0.24868518461414146\n",
      "  (1, 12279)\t0.3796661151115819\n",
      "  (1, 12041)\t0.37327055071909065\n",
      "  (1, 10306)\t0.08813410128297053\n",
      "  (1, 8813)\t0.42524648908354634\n",
      "  (1, 4008)\t0.23098933893199997\n",
      "  (1, 3339)\t0.2834482751186189\n",
      "  (2, 16868)\t0.344315415802567\n",
      "  :\t:\n",
      "  (4158, 16782)\t0.2796201559111399\n",
      "  (4158, 13954)\t0.2713157796360236\n",
      "  (4158, 13918)\t0.29432702492466434\n",
      "  (4158, 13775)\t0.21479309786895925\n",
      "  (4158, 13600)\t0.2496550139728973\n",
      "  (4158, 11068)\t0.29432702492466434\n",
      "  (4158, 10670)\t0.24617506104822148\n",
      "  (4158, 5768)\t0.32934072196545544\n",
      "  (4158, 3549)\t0.2872208032582607\n",
      "  (4158, 2510)\t0.22655297584422188\n",
      "  (4158, 1296)\t0.30891064506142396\n",
      "  (4158, 273)\t0.293231224080478\n",
      "  (4158, 152)\t0.20393904870694302\n",
      "  (4159, 16996)\t0.11013119816597862\n",
      "  (4159, 15295)\t0.10805993210105909\n",
      "  (4159, 14927)\t0.3088818119678944\n",
      "  (4159, 10306)\t0.10645501464709921\n",
      "  (4159, 6188)\t0.2892693295339005\n",
      "  (4159, 5152)\t0.3423702044974272\n",
      "  (4159, 3150)\t0.3072250132435665\n",
      "  (4159, 2998)\t0.3779346456675232\n",
      "  (4159, 2824)\t0.3186116682102382\n",
      "  (4159, 1208)\t0.3635178622548901\n",
      "  (4159, 566)\t0.32177779021833913\n",
      "  (4159, 347)\t0.3068192329139987\n"
     ]
    }
   ],
   "source": [
    "print(X_test)"
   ]
  },
  {
   "cell_type": "markdown",
   "id": "d9b02d32-291f-487e-b470-e7de8f205070",
   "metadata": {},
   "source": [
    "### __Aplication__"
   ]
  },
  {
   "cell_type": "code",
   "execution_count": 30,
   "id": "e2b01ba0-1c5a-4ec0-a11b-829ed07a5903",
   "metadata": {},
   "outputs": [
    {
     "name": "stdout",
     "output_type": "stream",
     "text": [
      "[0]\n",
      "The news is Real\n"
     ]
    }
   ],
   "source": [
    "X_new = X_test[3]\n",
    "\n",
    "prediction = model.predict(X_new)\n",
    "print(prediction)\n",
    "\n",
    "if (prediction[0]==0):\n",
    "  print('The news is Real')\n",
    "else:\n",
    "  print('The news is Fake')"
   ]
  },
  {
   "cell_type": "code",
   "execution_count": 31,
   "id": "02fddf7a-48da-477c-8e7e-cfd5948b336f",
   "metadata": {},
   "outputs": [
    {
     "name": "stdout",
     "output_type": "stream",
     "text": [
      "  (0, 14632)\t0.23337028911399943\n",
      "  (0, 12693)\t0.211577404470594\n",
      "  (0, 11888)\t0.25336998543209355\n",
      "  (0, 11246)\t0.340188979812318\n",
      "  (0, 11217)\t0.3302474074203597\n",
      "  (0, 7668)\t0.18748490820807126\n",
      "  (0, 6868)\t0.2729431954288567\n",
      "  (0, 5529)\t0.2895160407717208\n",
      "  (0, 3782)\t0.5146474416282095\n",
      "  (0, 2806)\t0.22586908309808348\n",
      "  (0, 2510)\t0.19575583865343715\n",
      "  (0, 2407)\t0.22941655373198824\n",
      "  (0, 1894)\t0.10717190161988106\n"
     ]
    }
   ],
   "source": [
    "print(X_test[3])"
   ]
  },
  {
   "cell_type": "markdown",
   "id": "4ecd1791-e4cf-4eb9-bf27-21e4e096a383",
   "metadata": {},
   "source": [
    "### Using test csv"
   ]
  },
  {
   "cell_type": "code",
   "execution_count": 32,
   "id": "5336e628-bc73-4fd7-9213-32bb2f27a454",
   "metadata": {},
   "outputs": [
    {
     "data": {
      "text/plain": [
       "(5200, 4)"
      ]
     },
     "execution_count": 32,
     "metadata": {},
     "output_type": "execute_result"
    }
   ],
   "source": [
    "testing_dataset = pd.read_csv('test.csv')\n",
    "testing_dataset.shape"
   ]
  },
  {
   "cell_type": "code",
   "execution_count": 33,
   "id": "adccc69b-911d-4f93-ba6d-0c1626030aa2",
   "metadata": {},
   "outputs": [
    {
     "data": {
      "text/plain": [
       "id          0\n",
       "title     122\n",
       "author    503\n",
       "text        7\n",
       "dtype: int64"
      ]
     },
     "execution_count": 33,
     "metadata": {},
     "output_type": "execute_result"
    }
   ],
   "source": [
    "testing_dataset.isnull().sum()"
   ]
  },
  {
   "cell_type": "code",
   "execution_count": 34,
   "id": "f7cfc1a6-16e1-4341-b978-e087eb92c478",
   "metadata": {},
   "outputs": [
    {
     "data": {
      "text/plain": [
       "id        0\n",
       "title     0\n",
       "author    0\n",
       "text      0\n",
       "dtype: int64"
      ]
     },
     "execution_count": 34,
     "metadata": {},
     "output_type": "execute_result"
    }
   ],
   "source": [
    "testing_dataset=testing_dataset.fillna('')\n",
    "testing_dataset.isnull().sum()"
   ]
  },
  {
   "cell_type": "code",
   "execution_count": 35,
   "id": "24d71203-c465-4bb1-9137-ba1d5ee1f230",
   "metadata": {},
   "outputs": [
    {
     "name": "stdout",
     "output_type": "stream",
     "text": [
      "0       David Streitfeld Specter of Trump Loosens Tong...\n",
      "1        Russian warships ready to strike terrorists n...\n",
      "2       Common Dreams #NoDAPL: Native American Leaders...\n",
      "3       Daniel Victor Tim Tebow Will Attempt Another C...\n",
      "4       Truth Broadcast Network Keiser Report: Meme Wa...\n",
      "                              ...                        \n",
      "5195    Jody Rosen The Bangladeshi Traffic Jam That Ne...\n",
      "5196    Sheryl Gay Stolberg John Kasich Signs One Abor...\n",
      "5197    Mike McPhate California Today: What, Exactly, ...\n",
      "5198     300 US Marines To Be Deployed To Russian Bord...\n",
      "5199    Teddy Wayne Awkward Sex, Onscreen and Off - Th...\n",
      "Name: content, Length: 5200, dtype: object\n"
     ]
    }
   ],
   "source": [
    "testing_dataset['content'] = testing_dataset['author']+' '+testing_dataset['title']\n",
    "print(testing_dataset['content'])"
   ]
  },
  {
   "cell_type": "code",
   "execution_count": 36,
   "id": "ad5e4e46-323a-4163-bcf4-15a53f3c7230",
   "metadata": {},
   "outputs": [],
   "source": [
    "testing_dataset['content'] = testing_dataset['content'].apply(stemming)"
   ]
  },
  {
   "cell_type": "code",
   "execution_count": 37,
   "id": "8711eaf1-eedb-4488-ae6d-b6da2291e617",
   "metadata": {},
   "outputs": [],
   "source": [
    "test_two = testing_dataset['content'].values"
   ]
  },
  {
   "cell_type": "code",
   "execution_count": 38,
   "id": "164440f1-4aea-4e6e-8f36-53f552ff8c37",
   "metadata": {},
   "outputs": [
    {
     "name": "stdout",
     "output_type": "stream",
     "text": [
      "['david streitfeld specter trump loosen tongu purs string silicon valley new york time'\n",
      " 'russian warship readi strike terrorist near aleppo'\n",
      " 'common dream nodapl nativ american leader vow stay winter file lawsuit polic'\n",
      " ... 'mike mcphate california today exactli sushi new york time'\n",
      " 'us marin deploy russian border norway'\n",
      " 'teddi wayn awkward sex onscreen new york time']\n"
     ]
    }
   ],
   "source": [
    "print(test_two)"
   ]
  },
  {
   "cell_type": "code",
   "execution_count": 39,
   "id": "6b15e20a-60a2-4891-a758-7e05a8c7cace",
   "metadata": {},
   "outputs": [],
   "source": [
    "vectorizer_new = TfidfVectorizer()\n",
    "vectorizer_new.fit(test_two)\n",
    "test_two= vectorizer.transform(test_two)"
   ]
  },
  {
   "cell_type": "code",
   "execution_count": 40,
   "id": "dbc5d1e6-a161-4179-91c0-14c5aa9d8161",
   "metadata": {},
   "outputs": [
    {
     "name": "stdout",
     "output_type": "stream",
     "text": [
      "  (0, 16996)\t0.08864595251126647\n",
      "  (0, 16088)\t0.3205594987716609\n",
      "  (0, 15582)\t0.11032513315099028\n",
      "  (0, 15368)\t0.38547947461491155\n",
      "  (0, 15295)\t0.08697876504498342\n",
      "  (0, 14605)\t0.3970837204511862\n",
      "  (0, 14591)\t0.34467447913058513\n",
      "  (0, 13850)\t0.32956045112215354\n",
      "  (0, 12030)\t0.38547947461491155\n",
      "  (0, 10306)\t0.08568694729690247\n",
      "  (0, 8842)\t0.36912420870480717\n",
      "  (0, 3623)\t0.209228842739656\n",
      "  (1, 16473)\t0.4921981982038152\n",
      "  (1, 15142)\t0.3550835494981517\n",
      "  (1, 14603)\t0.35559908473568963\n",
      "  (1, 13048)\t0.3052969733971102\n",
      "  (1, 12300)\t0.3838422559012773\n",
      "  (1, 10219)\t0.37818137822242154\n",
      "  (1, 347)\t0.3487744590431239\n",
      "  (2, 16746)\t0.3016628915147435\n",
      "  (2, 16354)\t0.2909537422615255\n",
      "  (2, 14457)\t0.30637021801826614\n",
      "  (2, 11598)\t0.21447077225895875\n",
      "  (2, 10419)\t0.35982822390508096\n",
      "  (2, 10176)\t0.3194727535249622\n",
      "  :\t:\n",
      "  (5196, 5884)\t0.2500401085058591\n",
      "  (5196, 1517)\t0.19940396943572683\n",
      "  (5196, 41)\t0.2656503884474958\n",
      "  (5197, 16996)\t0.11797520134546996\n",
      "  (5197, 15336)\t0.33413616793311524\n",
      "  (5197, 15295)\t0.11575641107424592\n",
      "  (5197, 14827)\t0.5502287050707828\n",
      "  (5197, 10306)\t0.1140371847067236\n",
      "  (5197, 9628)\t0.2914620299435\n",
      "  (5197, 9405)\t0.3763670657730048\n",
      "  (5197, 5005)\t0.4638294166150902\n",
      "  (5197, 2184)\t0.3217750895378809\n",
      "  (5198, 16036)\t0.2897750750203496\n",
      "  (5198, 13048)\t0.3239229606712843\n",
      "  (5198, 10465)\t0.5285950904428587\n",
      "  (5198, 9196)\t0.45384301471017496\n",
      "  (5198, 3857)\t0.45192406838310434\n",
      "  (5198, 1766)\t0.3485436934179841\n",
      "  (5199, 16996)\t0.11981057095223657\n",
      "  (5199, 16501)\t0.5088343621556953\n",
      "  (5199, 15295)\t0.11755726240784027\n",
      "  (5199, 13600)\t0.34031674142822577\n",
      "  (5199, 10713)\t0.5587887501526321\n",
      "  (5199, 10306)\t0.11581128960728698\n",
      "  (5199, 1016)\t0.5209997144326574\n"
     ]
    }
   ],
   "source": [
    "print(test_two)"
   ]
  },
  {
   "cell_type": "code",
   "execution_count": 42,
   "id": "d93c0610-60b2-46e1-8f1f-c39f7b2428cd",
   "metadata": {},
   "outputs": [],
   "source": [
    "prediction = model.predict(test_two)"
   ]
  },
  {
   "cell_type": "code",
   "execution_count": 43,
   "id": "1ba457f7-e70c-44ea-9cff-101e00c885a7",
   "metadata": {},
   "outputs": [
    {
     "name": "stdout",
     "output_type": "stream",
     "text": [
      "[0 1 1 ... 0 1 0]\n"
     ]
    }
   ],
   "source": [
    "print(prediction)"
   ]
  },
  {
   "cell_type": "code",
   "execution_count": null,
   "id": "58b62929-c8a8-4806-95e7-cae9b1d29493",
   "metadata": {},
   "outputs": [],
   "source": []
  }
 ],
 "metadata": {
  "kernelspec": {
   "display_name": "Python 3 (ipykernel)",
   "language": "python",
   "name": "python3"
  },
  "language_info": {
   "codemirror_mode": {
    "name": "ipython",
    "version": 3
   },
   "file_extension": ".py",
   "mimetype": "text/x-python",
   "name": "python",
   "nbconvert_exporter": "python",
   "pygments_lexer": "ipython3",
   "version": "3.9.13"
  }
 },
 "nbformat": 4,
 "nbformat_minor": 5
}
